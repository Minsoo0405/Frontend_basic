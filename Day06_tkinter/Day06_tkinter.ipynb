{
 "cells": [
  {
   "attachments": {},
   "cell_type": "markdown",
   "metadata": {},
   "source": [
    "# tkinter를 활용한 타이머 만들기"
   ]
  },
  {
   "cell_type": "code",
   "execution_count": 1,
   "metadata": {},
   "outputs": [],
   "source": [
    "import tkinter as tk\n",
    "\n",
    "# 시간 시작 타이머\n",
    "def startTimer():\n",
    "    if (running):\n",
    "        global timer\n",
    "        timer += 1\n",
    "        timeText.configure(text=str(timer))\n",
    "    window.after(10, startTimer)\n",
    "\n",
    "# \n",
    "def start():\n",
    "    global running\n",
    "    running = True\n",
    "\n",
    "# 시간 멈춤\n",
    "def stop():\n",
    "    global running\n",
    "    running = False\n",
    "\n",
    "# 시간 멈춤\n",
    "def reset():\n",
    "    global timer\n",
    "    timer = 0\n",
    "    timeText.configure(text=str(timer))\n",
    "\n",
    "running = False\n",
    "\n",
    "window = tk.Tk()\n",
    "\n",
    "timer = 0\n",
    "\n",
    "timeText = tk.Label(window, text=\"0\", font=(\"Helvetica\", 80))\n",
    "timeText.pack()\n",
    "\n",
    "startButton = tk.Button(window, text='시작', bg=\"yellow\", command=start)\n",
    "startButton.pack(fill=tk.BOTH)\n",
    "\n",
    "stopButton = tk.Button(window, text='중지', bg=\"yellow\", command=stop)\n",
    "stopButton.pack(fill=tk.BOTH)\n",
    "\n",
    "resetButton = tk.Button(window, text='초기화', bg=\"yellow\", command=reset)\n",
    "resetButton.pack(fill=tk.BOTH)\n",
    "\n",
    "startTimer()\n",
    "window.mainloop()"
   ]
  },
  {
   "attachments": {},
   "cell_type": "markdown",
   "metadata": {},
   "source": [
    "# GUI창에서 마우스클릭을 통해 이벤트 출력 "
   ]
  },
  {
   "cell_type": "code",
   "execution_count": 3,
   "metadata": {},
   "outputs": [
    {
     "name": "stdout",
     "output_type": "stream",
     "text": [
      "60 50 에서 마우스 이벤트 발생\n"
     ]
    }
   ],
   "source": [
    "from tkinter import *\n",
    "\n",
    "window = Tk()\n",
    "\n",
    "def key(event):\n",
    "    print(repr(event.char), \"가 눌렸습니다.\")\n",
    "    \n",
    "def callback(event):\n",
    "    frame.focus_set()\n",
    "    print(event.x, event.y, \"에서 마우스 이벤트 발생\")\n",
    "\n",
    "frame = Frame(window, width = 100, height = 100)\n",
    "frame.bind(\"<Key>\", key)\n",
    "frame.bind(\"<Button-1>\", callback)\n",
    "frame.pack()\n",
    "\n",
    "window.mainloop()"
   ]
  },
  {
   "attachments": {},
   "cell_type": "markdown",
   "metadata": {},
   "source": [
    "# tkinter를 활용하여 계산기 GUI 생성"
   ]
  },
  {
   "cell_type": "code",
   "execution_count": 4,
   "metadata": {},
   "outputs": [],
   "source": [
    "from tkinter import *\n",
    "def click(key):\n",
    "    if key == '=': # \"=\" 버튼이면 수식을 계산하여 결과를 표시한다.\n",
    "        try:\n",
    "            result = eval(entry.get())\n",
    "            entry.delete(0, END) \n",
    "            entry.insert(END, str(result))\n",
    "        except:\n",
    "            entry.insert(END, \"오류!\")\n",
    "\n",
    "    elif key == 'C':\n",
    "        entry.delete(0, END) \n",
    "\n",
    "    else:\n",
    "        entry.insert(END, key)\n",
    "\n",
    "window = Tk()\n",
    "window.title(\"간단한 계산기\")\n",
    "\n",
    "buttons = [\n",
    "    '7', '8', '9', '+', 'C',\n",
    "    '4', '5', '6', '-', ' ',\n",
    "    '1', '2', '3', '*', ' ',\n",
    "    '0', '.', '=', '/', ' ' ]\n",
    "\n",
    "# 반복문으로 버튼을 생성한다.\n",
    "i=0\n",
    "for b in buttons:\n",
    "    cmd = lambda x=b: click(x)\n",
    "    b = Button(window,text=b,width=5,relief='ridge',command=cmd)\n",
    "    b.grid(row=i//5+1,column=i%5)\n",
    "    i += 1\n",
    "\n",
    "# 엔트리 위젯은 맨 윗줄의 5개의 셀에 걸쳐서 배치된다. \n",
    "entry = Entry(window, width=33, bg=\"yellow\")\n",
    "entry.grid(row=0, column=0, columnspan=5)\n",
    "\n",
    "window.mainloop()"
   ]
  }
 ],
 "metadata": {
  "kernelspec": {
   "display_name": "base",
   "language": "python",
   "name": "python3"
  },
  "language_info": {
   "codemirror_mode": {
    "name": "ipython",
    "version": 3
   },
   "file_extension": ".py",
   "mimetype": "text/x-python",
   "name": "python",
   "nbconvert_exporter": "python",
   "pygments_lexer": "ipython3",
   "version": "3.10.9"
  },
  "orig_nbformat": 4
 },
 "nbformat": 4,
 "nbformat_minor": 2
}
