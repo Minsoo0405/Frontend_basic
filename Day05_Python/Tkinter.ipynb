{
 "cells": [
  {
   "cell_type": "code",
   "execution_count": 1,
   "metadata": {},
   "outputs": [],
   "source": [
    "# import \n",
    "from tkinter import *"
   ]
  },
  {
   "cell_type": "code",
   "execution_count": 3,
   "metadata": {},
   "outputs": [],
   "source": [
    "# GUI 창에 Hello World! 출력하기\n",
    "window = Tk()\n",
    "\n",
    "label = Label(window, text=\"Hello World!\")\n",
    "label.pack()\n",
    "\n",
    "window.mainloop()\n"
   ]
  },
  {
   "cell_type": "code",
   "execution_count": null,
   "metadata": {},
   "outputs": [],
   "source": [
    "# GUI 창에 버튼 만들어서 출력하기\n",
    "window = Tk()\n",
    "\n",
    "b1 = Button(window, text=\"이것이 파이썬 버튼입니다.\")\n",
    "b1.pack()\n",
    "\n",
    "window.mainloop()"
   ]
  },
  {
   "cell_type": "code",
   "execution_count": 3,
   "metadata": {},
   "outputs": [],
   "source": [
    "# GUI 창에 두 개의 버튼을 생성하고 간격을 나누어 출력\n",
    "window = Tk()\n",
    "b1 = Button(window, text=\"첫번째 버튼\")\n",
    "b2 = Button(window, text=\"두번째 버튼\")\n",
    "b1.pack(side=LEFT, padx=10)\n",
    "b2.pack(side=LEFT, padx=10)\n",
    "\n",
    "window.mainloop()"
   ]
  },
  {
   "cell_type": "code",
   "execution_count": 2,
   "metadata": {},
   "outputs": [],
   "source": [
    "# GUI 창에서 callback을 통해 클릭을 하면 클릭되었다는 창을 생성\n",
    "def callback():\n",
    "    button[\"text\"] = \"버튼이 클릭되었음!\"\n",
    "\n",
    "window = Tk()\n",
    "button = Button(window, text=\"클릭\", command=callback)\n",
    "button.pack(side=LEFT)\n",
    "\n",
    "window. mainloop()"
   ]
  },
  {
   "cell_type": "code",
   "execution_count": 2,
   "metadata": {},
   "outputs": [
    {
     "name": "stdout",
     "output_type": "stream",
     "text": [
      "Hello 버튼이 클릭되었음!\n",
      "Quit 버튼이 클릭되었음!\n"
     ]
    },
    {
     "data": {
      "text/plain": [
       "<__main__.App at 0x108c4f0a0>"
      ]
     },
     "execution_count": 2,
     "metadata": {},
     "output_type": "execute_result"
    }
   ],
   "source": [
    "class App:\n",
    "    def __init__(self):\n",
    "        window = Tk()\n",
    "        helloB = Button(window, text=\"Hello\", command=self.hello, fg=\"red\")\n",
    "        helloB.pack(side=LEFT)\n",
    "        quitB = Button(window, text=\"Quit\", command=self.quit)\n",
    "        quitB.pack(side=LEFT)\n",
    "        window.mainloop()\n",
    "\n",
    "    def hello(self):\n",
    "        print(\"Hello 버튼이 클릭되었음!\")\n",
    "\n",
    "    def quit(self):\n",
    "        print(\"Quit 버튼이 클릭되었음!\")\n",
    "\n",
    "App()"
   ]
  },
  {
   "cell_type": "code",
   "execution_count": 5,
   "metadata": {},
   "outputs": [],
   "source": [
    "import tkinter as tk\n",
    "import tkinter.font as font\n",
    "\n",
    "class App:\n",
    "    def __init__(self):\n",
    "        root=tk.Tk()\n",
    "\n",
    "        self.customFont = font.Font(family = \"Helvetica\", size=12)\n",
    "\n",
    "        buttonframe = tk.Frame()\n",
    "        label = tk.Label(root, text=\"Hello, World!\", font=self.customFont)\n",
    "        buttonframe.pack()\n",
    "        label.pack()\n",
    "\n",
    "        bigger = tk.Button(root, text=\"폰트를 크게\", command=self.BigFont)\n",
    "        smaller = tk.Button(root, text=\"폰트를 작게\", command=self.SmallFont)\n",
    "        bigger.pack()\n",
    "        smaller.pack()\n",
    "        root.mainloop()\n",
    "\n",
    "    def BigFont(self):\n",
    "        size = self.customFont['size']\n",
    "        self.customFont.configure(size=size+2)\n",
    "\n",
    "    def SmallFont(self):\n",
    "        size = self.customFont['size']\n",
    "        self.customFont.configure(size=size-2)\n",
    "\n",
    "app = App()"
   ]
  },
  {
   "cell_type": "code",
   "execution_count": null,
   "metadata": {},
   "outputs": [],
   "source": [
    "# GUI 창에 애니메이션 적용\n",
    "import time\n",
    "from tkinter import *\n",
    "\n",
    "window = Tk()\n",
    "canvas = Canvas(window, width=400, height=300)\n",
    "canvas.pack()\n",
    "\n",
    "id = canvas.create_oval(10, 100, 50, 150, fill=\"lightblue\")\n",
    "\n",
    "for i in range(100):\n",
    "    canvas.move(id,3,0)\n",
    "    window.update()\n",
    "    time.sleep(0.05)"
   ]
  },
  {
   "cell_type": "code",
   "execution_count": 8,
   "metadata": {},
   "outputs": [],
   "source": [
    "# Tic-Tac-Toe 게임 \n",
    "from tkinter import *\n",
    "\n",
    "# i번째 버튼을 누를 수 있는지 검사하한다. 누를 수 있으면 X나 O를 표시한다.\n",
    "def checked(i):\n",
    "    global player\n",
    "    button = list[i] # 리스트에서 i번째 버튼 객체를 가져온다.\n",
    "\n",
    "    # 버튼이 초기상태가 아니면 이미 누른 버튼이므로 아무것도 하지않고 리턴한다.\n",
    "    if button[\"text\"] != \" \":\n",
    "        return\n",
    "    button[\"text\"] = \" \" + player + \" \"\n",
    "    button['bg'] = 'yellow'\n",
    "    if player==\"X\":\n",
    "        player=\"O\"\n",
    "        button[\"bg\"] = \"yellow\"\n",
    "    else:\n",
    "        player = \"X\"\n",
    "        button[\"bg\"] = \"lightgreen\" \n",
    "\n",
    "window = Tk()   # 윈도우를 생성한다.\n",
    "player=\"X\"  # 시작은 플레이어 X 이다.\n",
    "list = []\n",
    "\n",
    "# 9개의 버튼을 생성하여 격자 형태로 윈도우에 배치한다.\n",
    "for i in range(9):\n",
    "    b = Button(window, text=\" \", command=lambda k=i: checked(k))\n",
    "    b.grid(row=i//3, column=i%3)\n",
    "    list.append(b) # 버튼 객체를 리스트에 저장한다.\n",
    "\n",
    "window.mainloop()"
   ]
  }
 ],
 "metadata": {
  "kernelspec": {
   "display_name": "base",
   "language": "python",
   "name": "python3"
  },
  "language_info": {
   "codemirror_mode": {
    "name": "ipython",
    "version": 3
   },
   "file_extension": ".py",
   "mimetype": "text/x-python",
   "name": "python",
   "nbconvert_exporter": "python",
   "pygments_lexer": "ipython3",
   "version": "3.10.9"
  },
  "orig_nbformat": 4
 },
 "nbformat": 4,
 "nbformat_minor": 2
}
